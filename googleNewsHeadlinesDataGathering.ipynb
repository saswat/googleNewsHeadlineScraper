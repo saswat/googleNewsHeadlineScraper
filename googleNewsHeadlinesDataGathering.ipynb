{
 "cells": [
  {
   "cell_type": "code",
   "execution_count": 38,
   "metadata": {
    "collapsed": true
   },
   "outputs": [],
   "source": [
    "# This script can be run to create a dataset of google news headlines. \n",
    "\n",
    "import pandas as pd\n",
    "import numpy as np\n",
    "import requests\n",
    "import re\n",
    "from bs4 import BeautifulSoup as bs4"
   ]
  },
  {
   "cell_type": "code",
   "execution_count": 79,
   "metadata": {},
   "outputs": [
    {
     "name": "stdout",
     "output_type": "stream",
     "text": [
      "PAGE 1.0 SCRAPED\n",
      "PAGE 2.0 SCRAPED\n"
     ]
    }
   ],
   "source": [
    "#\n",
    "searchTerm = \"something\"\n",
    "count=0\n",
    "url = (\"https://www.google.com/search?q=\" + searchTerm + \"&hl=en&gl=us&authuser=0&tbs=qdr:y&tbm=nws&start=$count$&cad=h\")\n",
    "\n",
    "headlines = []\n",
    "dates = []\n",
    "\n",
    "while (count<20):\n",
    "    new_url = url.replace(\"$count$\", str(count))\n",
    "    r = requests.get(new_url)\n",
    "    \n",
    "    soup = bs4(r.text, 'html.parser')\n",
    "    \n",
    "    headlines += soup.select('div.st')\n",
    "    \n",
    "    dates += soup.find_all('div', 'slp')\n",
    "#     for i in dates:\n",
    "#         dates = i.string\n",
    "    \n",
    "    \n",
    "    \n",
    "# Notification stuff...\n",
    "    print(\"PAGE \"+str(1+(count/10))+ \" SCRAPED\")\n",
    "#     print(soup.prettify())\n",
    "#     url = \"https://www.google.com/search?q=ibuprofen&hl=en&gl=us&authuser=0&tbs=qdr:y&tbm=nws&start=$count$&cad=h\"\n",
    "    count = count+10"
   ]
  },
  {
   "cell_type": "code",
   "execution_count": 93,
   "metadata": {},
   "outputs": [
    {
     "name": "stdout",
     "output_type": "stream",
     "text": [
      "[<div class=\"st\">Houston capped off both another year in a millennium noted for teams ending championship droughts and a baseball season that had, thankfully, <b>something</b> for ...</div>, <div class=\"st\">Now, Thirdy has a chance to do <b>something</b> that even Kiefer could not do during his own stellar career with the Blue Eagles – to sweep the elimination round of ...</div>, <div class=\"st\">We usually try every time to eat <b>something</b> weird and exotic one of us has never eaten before. A couple of weeks ago, that was star fruit, because the kids had ...</div>, <div class=\"st\">If you're like most people, you've been scouring the web for ideas for the perfect gift. <b>Something</b> that might not be as over-the-top as what's found in the Neiman ...</div>, <div class=\"st\">WEDNESDAY PUZZLE — Well, look who's collaborating on crossword puzzles. Digital crossword editor Joel Fagliano and assistant crossword editor Sam ...</div>, <div class=\"st\">We've seen <b>something</b>. We've said <b>something</b>. Now what? We knew about Kristallnacht, and we let 6 million Jews perish. We know about the Rohingya.</div>, <div class=\"st\">The quote: “If you don't wake up every day with <b>something</b> to prove, you'll never improve.” As the Wildcats prepare for their first game of the season, sophomore ...</div>, <div class=\"st\">HOUSTON (AP) — There's <b>something</b> new to spot at the Houston Zoo with the debut of two jaguar cubs. The nearly 4-month-old male and female cats, which ...</div>, <div class=\"st\">Daniel is one of the thousands of people who plopped down a deposit for the much-hyped and lately production-troubled Tesla Model 3. Well, it looks like it's ...</div>, <div class=\"st\">Finally, there is <b>something</b> reasonable pro-choice and pro-life folks should be able to agree upon. Lawmakers on both sides of the aisle took a break from the tax ...</div>, <div class=\"st\">Activision could develop a Overwatch movie at some point in the future, as it's <b>something</b> the firm would be very interested in exploring. According to the ...</div>, <div class=\"st\">“The deal is so bad for rich people, I had to throw in the estate tax just to give them <b>something</b>,” Trump said, per “multiple people in the room who heard the ...</div>, <div class=\"st\">“Deep down inside, everybody wants to be a part of <b>something</b>,” Robinson said. “Our kids now are identified with Berkeley football by the way they dress on ...</div>, <div class=\"st\">Let's just get the chain of events straightened out: Louis CK decides to make a film about sexually inappropriate behaviour. He does so knowingly paying ...</div>, <div class=\"st\">Ireland manager Martin O'Neill says that qualifying for the World Cup would be “<b>something</b> else”, and supersede the achievement of reaching the European ...</div>, <div class=\"st\">Run for <b>Something's</b> victories included Danica Roem in Virginia, who became the first openly transgender state legislator and defeated the man who authored ...</div>, <div class=\"st\">Listening to a Taylor Swift album happens on two levels. There's the cursory listen, the one that reveals which songs sound completely different from Swift's past ...</div>, <div class=\"st\">All hope is not lost though, with Oborne also stating: “But you will get <b>something</b> that I personally love. Sorry but that's all I can say right now.” He went on to ...</div>, <div class=\"st\">Orion Peter, vocalist in the D.C. metal troupe Ilsa, says he and his bandmates “try to keep it raw.” Okay, but then why does their music sound like it's been ...</div>, <div class=\"st\">Are you liberal, conservative, <b>something</b> else? What section of our South Sound community would you seek to represent? You may be a state worker, student, ...</div>]\n"
     ]
    }
   ],
   "source": [
    "print(headlines)"
   ]
  },
  {
   "cell_type": "code",
   "execution_count": 88,
   "metadata": {
    "collapsed": true
   },
   "outputs": [],
   "source": [
    "# def _remove_attrs(soup):\n",
    "#     for tag in soup.findAll(True): \n",
    "#         tag.attrs = None\n",
    "#     return soup\n",
    "\n",
    "# def clean():\n",
    "#     clean_soup = _remove_attrs(date_df)\n",
    "#     return print(clean_soup)\n",
    "\n",
    "# clean()\n",
    "\n",
    "\n",
    "# date_df = pd.DataFrame({'Date':dates})\n",
    "\n",
    "\n",
    "# def cleanhtml():\n",
    "    \n",
    "#     for i in date_df:\n",
    "#       cleanr = re.compile('<.*?>')\n",
    "#       cleantext = re.sub(cleanr, '', raw_html)\n",
    "#       return cleantext\n",
    "\n",
    "# cleanHtml()"
   ]
  },
  {
   "cell_type": "code",
   "execution_count": null,
   "metadata": {
    "collapsed": true
   },
   "outputs": [],
   "source": []
  }
 ],
 "metadata": {
  "kernelspec": {
   "display_name": "Python 3",
   "language": "python",
   "name": "python3"
  },
  "language_info": {
   "codemirror_mode": {
    "name": "ipython",
    "version": 3
   },
   "file_extension": ".py",
   "mimetype": "text/x-python",
   "name": "python",
   "nbconvert_exporter": "python",
   "pygments_lexer": "ipython3",
   "version": "3.6.2"
  }
 },
 "nbformat": 4,
 "nbformat_minor": 2
}
