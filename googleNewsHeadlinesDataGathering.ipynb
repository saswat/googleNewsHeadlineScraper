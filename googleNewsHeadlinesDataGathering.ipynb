{
 "cells": [
  {
   "cell_type": "code",
   "execution_count": 8,
   "metadata": {
    "collapsed": true
   },
   "outputs": [],
   "source": [
    "# This script can be run to create a dataset of google news headlines. \n",
    "\n",
    "import pandas as pd\n",
    "from datetime import datetime\n",
    "import numpy as np\n",
    "import requests\n",
    "from bs4 import BeautifulSoup as bs4"
   ]
  },
  {
   "cell_type": "code",
   "execution_count": 72,
   "metadata": {
    "scrolled": true
   },
   "outputs": [
    {
     "name": "stdout",
     "output_type": "stream",
     "text": [
      "Wall time: 3.34 s\n"
     ]
    }
   ],
   "source": [
    "%%time\n",
    "searchTerm = \"something\"\n",
    "count=0\n",
    "url = (\"https://www.google.com/search?q=\" + searchTerm + \"&hl=en&gl=us&authuser=0&tbs=qdr:y&tbm=nws&start=$count$&cad=h\")\n",
    "\n",
    "source_time = []\n",
    "headlines = []\n",
    "\n",
    "while (count<50):\n",
    "    new_url = url.replace(\"$count$\", str(count))\n",
    "    r = requests.get(new_url)\n",
    "    count = count+10 \n",
    "    soup = bs4(r.text, 'html.parser')\n",
    "    \n",
    "    for d in soup.find_all(\"div\", \"slp\"):\n",
    "        source_time.append(d.text)   \n",
    "    \n",
    "    for h in soup.find_all(\"div\", \"st\"):\n",
    "        headlines.append(h.text)"
   ]
  },
  {
   "cell_type": "code",
   "execution_count": 73,
   "metadata": {
    "collapsed": true
   },
   "outputs": [],
   "source": [
    "sourceTime_df = pd.DataFrame(source_time)\n",
    "headline_df = pd.DataFrame(headlines, columns=[\"Headline\"])"
   ]
  },
  {
   "cell_type": "code",
   "execution_count": 74,
   "metadata": {
    "collapsed": true
   },
   "outputs": [],
   "source": [
    "#split sourceTime dataframe to columns containing Publication Name (Publication) and Time\n",
    "sourceTime_df['Publication'],sourceTime_df['Time'] = zip(*sourceTime_df[0].apply(lambda x: x.split(' - ')))"
   ]
  },
  {
   "cell_type": "code",
   "execution_count": 75,
   "metadata": {
    "collapsed": true
   },
   "outputs": [],
   "source": [
    "# df1 is a intermediate dataframe before final clean dataset\n",
    "df1 = pd.merge(sourceTime_df,headline_df,left_index=True, right_index=True) # merge the publication/time df with headline df"
   ]
  },
  {
   "cell_type": "code",
   "execution_count": 76,
   "metadata": {},
   "outputs": [
    {
     "data": {
      "text/html": [
       "<div>\n",
       "<style>\n",
       "    .dataframe thead tr:only-child th {\n",
       "        text-align: right;\n",
       "    }\n",
       "\n",
       "    .dataframe thead th {\n",
       "        text-align: left;\n",
       "    }\n",
       "\n",
       "    .dataframe tbody tr th {\n",
       "        vertical-align: top;\n",
       "    }\n",
       "</style>\n",
       "<table border=\"1\" class=\"dataframe\">\n",
       "  <thead>\n",
       "    <tr style=\"text-align: right;\">\n",
       "      <th></th>\n",
       "      <th>Publication</th>\n",
       "      <th>Time</th>\n",
       "      <th>Headline</th>\n",
       "    </tr>\n",
       "  </thead>\n",
       "  <tbody>\n",
       "    <tr>\n",
       "      <th>0</th>\n",
       "      <td>The San Diego Union-Tribune</td>\n",
       "      <td>16 hours ago</td>\n",
       "      <td>I am not opposed to new therapeutic modalities...</td>\n",
       "    </tr>\n",
       "    <tr>\n",
       "      <th>1</th>\n",
       "      <td>The Daily Times</td>\n",
       "      <td>10 hours ago</td>\n",
       "      <td>“I'm gonna' do a column about how everybody's ...</td>\n",
       "    </tr>\n",
       "    <tr>\n",
       "      <th>2</th>\n",
       "      <td>New York Post</td>\n",
       "      <td>3 days ago</td>\n",
       "      <td>Antarctica is a weird place. Scientists have l...</td>\n",
       "    </tr>\n",
       "    <tr>\n",
       "      <th>3</th>\n",
       "      <td>Devon Live</td>\n",
       "      <td>23 hours ago</td>\n",
       "      <td>If you're looking for a bargain this Christmas...</td>\n",
       "    </tr>\n",
       "    <tr>\n",
       "      <th>4</th>\n",
       "      <td>New York Times</td>\n",
       "      <td>2 days ago</td>\n",
       "      <td>We usually try every time to eat something wei...</td>\n",
       "    </tr>\n",
       "  </tbody>\n",
       "</table>\n",
       "</div>"
      ],
      "text/plain": [
       "                   Publication          Time  \\\n",
       "0  The San Diego Union-Tribune  16 hours ago   \n",
       "1              The Daily Times  10 hours ago   \n",
       "2                New York Post    3 days ago   \n",
       "3                   Devon Live  23 hours ago   \n",
       "4               New York Times    2 days ago   \n",
       "\n",
       "                                            Headline  \n",
       "0  I am not opposed to new therapeutic modalities...  \n",
       "1  “I'm gonna' do a column about how everybody's ...  \n",
       "2  Antarctica is a weird place. Scientists have l...  \n",
       "3  If you're looking for a bargain this Christmas...  \n",
       "4  We usually try every time to eat something wei...  "
      ]
     },
     "execution_count": 76,
     "metadata": {},
     "output_type": "execute_result"
    }
   ],
   "source": [
    "df1 = df1.drop(df1.columns[0], axis=1) #axis  =1 means columns, vs. 0 for rows. this drops the first column. \n",
    "df1.head()"
   ]
  },
  {
   "cell_type": "code",
   "execution_count": 77,
   "metadata": {},
   "outputs": [
    {
     "data": {
      "text/html": [
       "<div>\n",
       "<style>\n",
       "    .dataframe thead tr:only-child th {\n",
       "        text-align: right;\n",
       "    }\n",
       "\n",
       "    .dataframe thead th {\n",
       "        text-align: left;\n",
       "    }\n",
       "\n",
       "    .dataframe tbody tr th {\n",
       "        vertical-align: top;\n",
       "    }\n",
       "</style>\n",
       "<table border=\"1\" class=\"dataframe\">\n",
       "  <thead>\n",
       "    <tr style=\"text-align: right;\">\n",
       "      <th></th>\n",
       "      <th>Publication</th>\n",
       "      <th>Time</th>\n",
       "      <th>Headline</th>\n",
       "    </tr>\n",
       "  </thead>\n",
       "  <tbody>\n",
       "    <tr>\n",
       "      <th>0</th>\n",
       "      <td>The San Diego Union-Tribune</td>\n",
       "      <td>16 hours ago</td>\n",
       "      <td>I am not opposed to new therapeutic modalities...</td>\n",
       "    </tr>\n",
       "    <tr>\n",
       "      <th>1</th>\n",
       "      <td>The Daily Times</td>\n",
       "      <td>10 hours ago</td>\n",
       "      <td>“I'm gonna' do a column about how everybody's ...</td>\n",
       "    </tr>\n",
       "    <tr>\n",
       "      <th>2</th>\n",
       "      <td>New York Post</td>\n",
       "      <td>3 days ago</td>\n",
       "      <td>Antarctica is a weird place. Scientists have l...</td>\n",
       "    </tr>\n",
       "    <tr>\n",
       "      <th>3</th>\n",
       "      <td>Devon Live</td>\n",
       "      <td>23 hours ago</td>\n",
       "      <td>If you're looking for a bargain this Christmas...</td>\n",
       "    </tr>\n",
       "    <tr>\n",
       "      <th>4</th>\n",
       "      <td>New York Times</td>\n",
       "      <td>2 days ago</td>\n",
       "      <td>We usually try every time to eat something wei...</td>\n",
       "    </tr>\n",
       "  </tbody>\n",
       "</table>\n",
       "</div>"
      ],
      "text/plain": [
       "                   Publication          Time  \\\n",
       "0  The San Diego Union-Tribune  16 hours ago   \n",
       "1              The Daily Times  10 hours ago   \n",
       "2                New York Post    3 days ago   \n",
       "3                   Devon Live  23 hours ago   \n",
       "4               New York Times    2 days ago   \n",
       "\n",
       "                                            Headline  \n",
       "0  I am not opposed to new therapeutic modalities...  \n",
       "1  “I'm gonna' do a column about how everybody's ...  \n",
       "2  Antarctica is a weird place. Scientists have l...  \n",
       "3  If you're looking for a bargain this Christmas...  \n",
       "4  We usually try every time to eat something wei...  "
      ]
     },
     "execution_count": 77,
     "metadata": {},
     "output_type": "execute_result"
    }
   ],
   "source": [
    "df2 = df1 # make new dataframe called \"df2\"\n",
    "df2.head()"
   ]
  },
  {
   "cell_type": "code",
   "execution_count": 78,
   "metadata": {},
   "outputs": [],
   "source": [
    "# create columns to solve issue of relative time/dates in the scraping results. we use to_datetime a pandas fucntion and Timedelta \n",
    "# to get absolute dates by subrtracting with today's datetime\n",
    "\n",
    "absolute_date = pd.to_datetime(df1.Time, errors=\"coerce\")\n",
    "relative_date = (datetime.today() - df1.Time.str.extract(\"(.*) ago\", expand=False).apply(pd.Timedelta))\n",
    "relative_date[relative_date.isnull()] = absolute_date[absolute_date.notnull()]\n",
    "\n",
    "## add columns for months and year to \"df\"\n",
    "date = relative_date.dt.date\n",
    "df2.insert(loc=0, column='Month', value= relative_date.dt.month)\n",
    "df2.insert(loc=1, column='Year', value= relative_date.dt.year)"
   ]
  },
  {
   "cell_type": "code",
   "execution_count": 79,
   "metadata": {},
   "outputs": [
    {
     "data": {
      "text/html": [
       "<div>\n",
       "<style>\n",
       "    .dataframe thead tr:only-child th {\n",
       "        text-align: right;\n",
       "    }\n",
       "\n",
       "    .dataframe thead th {\n",
       "        text-align: left;\n",
       "    }\n",
       "\n",
       "    .dataframe tbody tr th {\n",
       "        vertical-align: top;\n",
       "    }\n",
       "</style>\n",
       "<table border=\"1\" class=\"dataframe\">\n",
       "  <thead>\n",
       "    <tr style=\"text-align: right;\">\n",
       "      <th></th>\n",
       "      <th>Month</th>\n",
       "      <th>Year</th>\n",
       "      <th>Publication</th>\n",
       "      <th>Time</th>\n",
       "      <th>Headline</th>\n",
       "    </tr>\n",
       "  </thead>\n",
       "  <tbody>\n",
       "    <tr>\n",
       "      <th>0</th>\n",
       "      <td>11</td>\n",
       "      <td>2017</td>\n",
       "      <td>The San Diego Union-Tribune</td>\n",
       "      <td>16 hours ago</td>\n",
       "      <td>I am not opposed to new therapeutic modalities...</td>\n",
       "    </tr>\n",
       "    <tr>\n",
       "      <th>1</th>\n",
       "      <td>11</td>\n",
       "      <td>2017</td>\n",
       "      <td>The Daily Times</td>\n",
       "      <td>10 hours ago</td>\n",
       "      <td>“I'm gonna' do a column about how everybody's ...</td>\n",
       "    </tr>\n",
       "    <tr>\n",
       "      <th>2</th>\n",
       "      <td>11</td>\n",
       "      <td>2017</td>\n",
       "      <td>New York Post</td>\n",
       "      <td>3 days ago</td>\n",
       "      <td>Antarctica is a weird place. Scientists have l...</td>\n",
       "    </tr>\n",
       "    <tr>\n",
       "      <th>3</th>\n",
       "      <td>11</td>\n",
       "      <td>2017</td>\n",
       "      <td>Devon Live</td>\n",
       "      <td>23 hours ago</td>\n",
       "      <td>If you're looking for a bargain this Christmas...</td>\n",
       "    </tr>\n",
       "    <tr>\n",
       "      <th>4</th>\n",
       "      <td>11</td>\n",
       "      <td>2017</td>\n",
       "      <td>New York Times</td>\n",
       "      <td>2 days ago</td>\n",
       "      <td>We usually try every time to eat something wei...</td>\n",
       "    </tr>\n",
       "  </tbody>\n",
       "</table>\n",
       "</div>"
      ],
      "text/plain": [
       "   Month  Year                  Publication          Time  \\\n",
       "0     11  2017  The San Diego Union-Tribune  16 hours ago   \n",
       "1     11  2017              The Daily Times  10 hours ago   \n",
       "2     11  2017                New York Post    3 days ago   \n",
       "3     11  2017                   Devon Live  23 hours ago   \n",
       "4     11  2017               New York Times    2 days ago   \n",
       "\n",
       "                                            Headline  \n",
       "0  I am not opposed to new therapeutic modalities...  \n",
       "1  “I'm gonna' do a column about how everybody's ...  \n",
       "2  Antarctica is a weird place. Scientists have l...  \n",
       "3  If you're looking for a bargain this Christmas...  \n",
       "4  We usually try every time to eat something wei...  "
      ]
     },
     "execution_count": 79,
     "metadata": {},
     "output_type": "execute_result"
    }
   ],
   "source": [
    "df2.head()"
   ]
  },
  {
   "cell_type": "code",
   "execution_count": 80,
   "metadata": {
    "scrolled": true
   },
   "outputs": [
    {
     "data": {
      "text/html": [
       "<div>\n",
       "<style>\n",
       "    .dataframe thead tr:only-child th {\n",
       "        text-align: right;\n",
       "    }\n",
       "\n",
       "    .dataframe thead th {\n",
       "        text-align: left;\n",
       "    }\n",
       "\n",
       "    .dataframe tbody tr th {\n",
       "        vertical-align: top;\n",
       "    }\n",
       "</style>\n",
       "<table border=\"1\" class=\"dataframe\">\n",
       "  <thead>\n",
       "    <tr style=\"text-align: right;\">\n",
       "      <th></th>\n",
       "      <th>Month</th>\n",
       "      <th>Year</th>\n",
       "      <th>Publication</th>\n",
       "      <th>Headline</th>\n",
       "    </tr>\n",
       "  </thead>\n",
       "  <tbody>\n",
       "    <tr>\n",
       "      <th>0</th>\n",
       "      <td>11</td>\n",
       "      <td>2017</td>\n",
       "      <td>The San Diego Union-Tribune</td>\n",
       "      <td>I am not opposed to new therapeutic modalities...</td>\n",
       "    </tr>\n",
       "    <tr>\n",
       "      <th>1</th>\n",
       "      <td>11</td>\n",
       "      <td>2017</td>\n",
       "      <td>The Daily Times</td>\n",
       "      <td>“I'm gonna' do a column about how everybody's ...</td>\n",
       "    </tr>\n",
       "    <tr>\n",
       "      <th>2</th>\n",
       "      <td>11</td>\n",
       "      <td>2017</td>\n",
       "      <td>New York Post</td>\n",
       "      <td>Antarctica is a weird place. Scientists have l...</td>\n",
       "    </tr>\n",
       "    <tr>\n",
       "      <th>3</th>\n",
       "      <td>11</td>\n",
       "      <td>2017</td>\n",
       "      <td>Devon Live</td>\n",
       "      <td>If you're looking for a bargain this Christmas...</td>\n",
       "    </tr>\n",
       "    <tr>\n",
       "      <th>4</th>\n",
       "      <td>11</td>\n",
       "      <td>2017</td>\n",
       "      <td>New York Times</td>\n",
       "      <td>We usually try every time to eat something wei...</td>\n",
       "    </tr>\n",
       "  </tbody>\n",
       "</table>\n",
       "</div>"
      ],
      "text/plain": [
       "   Month  Year                  Publication  \\\n",
       "0     11  2017  The San Diego Union-Tribune   \n",
       "1     11  2017              The Daily Times   \n",
       "2     11  2017                New York Post   \n",
       "3     11  2017                   Devon Live   \n",
       "4     11  2017               New York Times   \n",
       "\n",
       "                                            Headline  \n",
       "0  I am not opposed to new therapeutic modalities...  \n",
       "1  “I'm gonna' do a column about how everybody's ...  \n",
       "2  Antarctica is a weird place. Scientists have l...  \n",
       "3  If you're looking for a bargain this Christmas...  \n",
       "4  We usually try every time to eat something wei...  "
      ]
     },
     "execution_count": 80,
     "metadata": {},
     "output_type": "execute_result"
    }
   ],
   "source": [
    "final_df = df2.drop('Time', axis=1)\n",
    "final_df.head()"
   ]
  },
  {
   "cell_type": "code",
   "execution_count": null,
   "metadata": {
    "collapsed": true
   },
   "outputs": [],
   "source": []
  }
 ],
 "metadata": {
  "kernelspec": {
   "display_name": "Python 3",
   "language": "python",
   "name": "python3"
  },
  "language_info": {
   "codemirror_mode": {
    "name": "ipython",
    "version": 3
   },
   "file_extension": ".py",
   "mimetype": "text/x-python",
   "name": "python",
   "nbconvert_exporter": "python",
   "pygments_lexer": "ipython3",
   "version": "3.6.2"
  }
 },
 "nbformat": 4,
 "nbformat_minor": 2
}
