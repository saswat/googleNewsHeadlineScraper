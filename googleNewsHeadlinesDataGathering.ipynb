{
 "cells": [
  {
   "cell_type": "code",
   "execution_count": 155,
   "metadata": {
    "collapsed": true
   },
   "outputs": [],
   "source": [
    "# This script can be run to create a dataset of google news headlines. \n",
    "\n",
    "import pandas as pd\n",
    "import numpy as np\n",
    "import requests\n",
    "from bs4 import BeautifulSoup as bs4"
   ]
  },
  {
   "cell_type": "code",
   "execution_count": 156,
   "metadata": {
    "scrolled": true
   },
   "outputs": [],
   "source": [
    "searchTerm = \"something\"\n",
    "count=0\n",
    "url = (\"https://www.google.com/search?q=\" + searchTerm + \"&hl=en&gl=us&authuser=0&tbs=qdr:y&tbm=nws&start=$count$&cad=h\")\n",
    "\n",
    "headline = []\n",
    "source_time = []\n",
    "\n",
    "while (count<20):\n",
    "    new_url = url.replace(\"$count$\", str(count))\n",
    "    r = requests.get(new_url)\n",
    "    \n",
    "    soup = bs4(r.text, 'html.parser')\n",
    "    headline += soup.find_all(\"div\", \"st\")\n",
    "    source_time += soup.find_all(\"div\", \"slp\")\n",
    "\n",
    "    count = count+10 "
   ]
  },
  {
   "cell_type": "code",
   "execution_count": 157,
   "metadata": {},
   "outputs": [
    {
     "name": "stdout",
     "output_type": "stream",
     "text": [
      "['ESPN - 14 hours ago', 'ABS-CBN News - 15 hours ago', 'MinnPost - 1 day ago', 'Rowan Today - 7 hours ago', 'New York Times - 3 days ago', 'NME.com - 1 day ago', 'KTRK-TV - 1 hour ago', 'Wichita Eagle - 1 day ago', 'KATC Lafayette News - 6 hours ago', 'Jalopnik - 1 day ago', 'Washington Post - 1 day ago', 'Deseret News - 4 hours ago', 'The Sydney Morning Herald - 14 hours ago', 'New York Magazine - 2 days ago', 'Vox - 1 day ago', 'Los Angeles Times - 6 hours ago', 'VG247 - 10 hours ago', 'The Independent (blog) - 16 hours ago', 'The Independent - 9 hours ago', 'Berkeley Independent - 10 hours ago']\n"
     ]
    }
   ],
   "source": [
    "def textify():\n",
    "\n",
    "    source_time_text  = []\n",
    "    for d in source_time:\n",
    "        source_time_text.append(d.find('span').text)\n",
    "        \n",
    "    return print(source_time_text)\n",
    "\n",
    "textify()"
   ]
  },
  {
   "cell_type": "code",
   "execution_count": 162,
   "metadata": {},
   "outputs": [
    {
     "ename": "AttributeError",
     "evalue": "'NoneType' object has no attribute 'text'",
     "output_type": "error",
     "traceback": [
      "\u001b[1;31m---------------------------------------------------------------------------\u001b[0m",
      "\u001b[1;31mAttributeError\u001b[0m                            Traceback (most recent call last)",
      "\u001b[1;32m<ipython-input-162-d142e971c38e>\u001b[0m in \u001b[0;36m<module>\u001b[1;34m()\u001b[0m\n\u001b[0;32m      7\u001b[0m     \u001b[1;32mreturn\u001b[0m \u001b[0mprint\u001b[0m\u001b[1;33m(\u001b[0m\u001b[0mheadline_text\u001b[0m\u001b[1;33m)\u001b[0m\u001b[1;33m\u001b[0m\u001b[0m\n\u001b[0;32m      8\u001b[0m \u001b[1;33m\u001b[0m\u001b[0m\n\u001b[1;32m----> 9\u001b[1;33m \u001b[0mheadlinify\u001b[0m\u001b[1;33m(\u001b[0m\u001b[1;33m)\u001b[0m\u001b[1;33m\u001b[0m\u001b[0m\n\u001b[0m",
      "\u001b[1;32m<ipython-input-162-d142e971c38e>\u001b[0m in \u001b[0;36mheadlinify\u001b[1;34m()\u001b[0m\n\u001b[0;32m      3\u001b[0m     \u001b[0mheadline_text\u001b[0m \u001b[1;33m=\u001b[0m \u001b[1;33m[\u001b[0m\u001b[1;33m]\u001b[0m\u001b[1;33m\u001b[0m\u001b[0m\n\u001b[0;32m      4\u001b[0m     \u001b[1;32mfor\u001b[0m \u001b[0md\u001b[0m \u001b[1;32min\u001b[0m \u001b[0mheadline\u001b[0m\u001b[1;33m:\u001b[0m\u001b[1;33m\u001b[0m\u001b[0m\n\u001b[1;32m----> 5\u001b[1;33m         \u001b[0mheadline_text\u001b[0m\u001b[1;33m.\u001b[0m\u001b[0mappend\u001b[0m\u001b[1;33m(\u001b[0m\u001b[0md\u001b[0m\u001b[1;33m.\u001b[0m\u001b[0mfind\u001b[0m\u001b[1;33m(\u001b[0m\u001b[1;34m'span'\u001b[0m\u001b[1;33m)\u001b[0m\u001b[1;33m.\u001b[0m\u001b[0mtext\u001b[0m\u001b[1;33m)\u001b[0m\u001b[1;33m\u001b[0m\u001b[0m\n\u001b[0m\u001b[0;32m      6\u001b[0m \u001b[1;33m\u001b[0m\u001b[0m\n\u001b[0;32m      7\u001b[0m     \u001b[1;32mreturn\u001b[0m \u001b[0mprint\u001b[0m\u001b[1;33m(\u001b[0m\u001b[0mheadline_text\u001b[0m\u001b[1;33m)\u001b[0m\u001b[1;33m\u001b[0m\u001b[0m\n",
      "\u001b[1;31mAttributeError\u001b[0m: 'NoneType' object has no attribute 'text'"
     ]
    }
   ],
   "source": [
    "def headlinify():\n",
    "    \n",
    "    headline_text = []\n",
    "    for d in headline:\n",
    "        headline_text.append(d.find('span').text)\n",
    "        \n",
    "    return print(headline_text)\n",
    "\n",
    "headlinify()"
   ]
  },
  {
   "cell_type": "code",
   "execution_count": 163,
   "metadata": {},
   "outputs": [
    {
     "data": {
      "text/plain": [
       "list"
      ]
     },
     "execution_count": 163,
     "metadata": {},
     "output_type": "execute_result"
    }
   ],
   "source": [
    "type(headline)"
   ]
  },
  {
   "cell_type": "code",
   "execution_count": null,
   "metadata": {
    "collapsed": true
   },
   "outputs": [],
   "source": []
  }
 ],
 "metadata": {
  "kernelspec": {
   "display_name": "Python 3",
   "language": "python",
   "name": "python3"
  },
  "language_info": {
   "codemirror_mode": {
    "name": "ipython",
    "version": 3
   },
   "file_extension": ".py",
   "mimetype": "text/x-python",
   "name": "python",
   "nbconvert_exporter": "python",
   "pygments_lexer": "ipython3",
   "version": "3.6.2"
  }
 },
 "nbformat": 4,
 "nbformat_minor": 2
}
