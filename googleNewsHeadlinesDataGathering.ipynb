{
 "cells": [
  {
   "cell_type": "code",
   "execution_count": 124,
   "metadata": {},
   "outputs": [],
   "source": [
    "# This script can be run to create a dataset of google news headlines. \n",
    "\n",
    "import pandas as pd\n",
    "import numpy as np\n",
    "import requests\n",
    "from bs4 import BeautifulSoup as bs4"
   ]
  },
  {
   "cell_type": "code",
   "execution_count": 125,
   "metadata": {
    "scrolled": true
   },
   "outputs": [
    {
     "name": "stdout",
     "output_type": "stream",
     "text": [
      "Wall time: 4.39 s\n"
     ]
    }
   ],
   "source": [
    "%%time\n",
    "searchTerm = \"something\"\n",
    "count=0\n",
    "url = (\"https://www.google.com/search?q=\" + searchTerm + \"&hl=en&gl=us&authuser=0&tbs=qdr:y&tbm=nws&start=$count$&cad=h\")\n",
    "\n",
    "headlines = []\n",
    "source_time = []\n",
    "\n",
    "while (count<50):\n",
    "    new_url = url.replace(\"$count$\", str(count))\n",
    "    r = requests.get(new_url)\n",
    "    count = count+10 \n",
    "    soup = bs4(r.text, 'html.parser')\n",
    "    \n",
    "    source_time += soup.find_all(\"div\", \"slp\")\n",
    "    \n",
    "    for h in soup.find_all(\"div\", \"st\"):\n",
    "        headlines.append(h.text)"
   ]
  },
  {
   "cell_type": "code",
   "execution_count": 126,
   "metadata": {},
   "outputs": [],
   "source": [
    "source_time_text  = []\n",
    "\n",
    "def textify(): \n",
    "    for d in source_time:\n",
    "        source_time_text.append(d.find('span').text)        \n",
    "    return print(source_time_text)\n",
    "# textify()\n",
    "# len(source_time_text)"
   ]
  },
  {
   "cell_type": "code",
   "execution_count": 127,
   "metadata": {},
   "outputs": [],
   "source": [
    "# print(headlines)\n",
    "# len(headlines)"
   ]
  },
  {
   "cell_type": "code",
   "execution_count": null,
   "metadata": {
    "collapsed": true
   },
   "outputs": [],
   "source": []
  }
 ],
 "metadata": {
  "kernelspec": {
   "display_name": "Python 3",
   "language": "python",
   "name": "python3"
  },
  "language_info": {
   "codemirror_mode": {
    "name": "ipython",
    "version": 3
   },
   "file_extension": ".py",
   "mimetype": "text/x-python",
   "name": "python",
   "nbconvert_exporter": "python",
   "pygments_lexer": "ipython3",
   "version": "3.6.2"
  }
 },
 "nbformat": 4,
 "nbformat_minor": 2
}
