{
 "cells": [
  {
   "cell_type": "code",
   "execution_count": 1,
   "metadata": {
    "collapsed": true
   },
   "outputs": [],
   "source": [
    "# This script can be run to create a dataset of google news headlines. \n",
    "\n",
    "import pandas as pd\n",
    "import numpy as np\n",
    "import requests\n",
    "from bs4 import BeautifulSoup as bs4"
   ]
  },
  {
   "cell_type": "code",
   "execution_count": 98,
   "metadata": {
    "scrolled": true
   },
   "outputs": [],
   "source": [
    "searchTerm = \"something\"\n",
    "count=0\n",
    "url = (\"https://www.google.com/search?q=\" + searchTerm + \"&hl=en&gl=us&authuser=0&tbs=qdr:y&tbm=nws&start=$count$&cad=h\")\n",
    "\n",
    "# headline = []\n",
    "headlines = []\n",
    "source_time = []\n",
    "\n",
    "while (count<50):\n",
    "    new_url = url.replace(\"$count$\", str(count))\n",
    "    r = requests.get(new_url)\n",
    "    \n",
    "    soup = bs4(r.text, 'html.parser')\n",
    "    \n",
    "    source_time += soup.find_all(\"div\", \"slp\")\n",
    "    \n",
    "    for headline in soup.find_all(\"div\", \"st\"):\n",
    "        headlines.append(headline.text)\n",
    "\n",
    "    count = count+10 "
   ]
  },
  {
   "cell_type": "code",
   "execution_count": 99,
   "metadata": {},
   "outputs": [
    {
     "name": "stdout",
     "output_type": "stream",
     "text": [
      "['The San Diego Union-Tribune - 5 hours ago', 'Devon Live - 12 hours ago', 'New York Post - 2 days ago', 'ESPN - 1 day ago', 'TheSixthAxis - 14 hours ago', 'WatertownDailyTimes.com - 18 hours ago', 'PEOPLE.com - 10 hours ago', 'Los Angeles Times - 1 day ago', 'Markets Insider - 12 hours ago', 'MinnPost - 2 days ago', 'New York Times - 1 day ago', 'NME.com - 2 days ago', 'AV Club - 10 hours ago', 'Wichita Eagle - 2 days ago', 'New York Magazine - 3 days ago', 'ABS-CBN News - 1 day ago', 'Jalopnik - 2 days ago', 'Washington Post - 2 days ago', 'DesMoinesRegister.com - 4 days ago', 'BGR - 1 day ago', 'Deseret News - 1 day ago', 'The42 - 12 hours ago', 'Vox - 2 days ago', 'The Sydney Morning Herald - 1 day ago', 'Foreign Policy (blog) - 4 days ago', 'Allentown Morning Call - 1 day ago', 'XXLMAG.COM - 4 days ago', 'New York Times - Nov 2, 2017', 'New York Post - 10 hours ago', 'KATC Lafayette News - 1 day ago', 'http://mp1st.com/category/news (press release) - 12 hours ago', 'RollingStone.com - Nov 1, 2017', 'The Daily Dot - 4 days ago', 'HuffPost - 3 days ago', 'Berkeley Independent - 1 day ago', 'SECcountry.com - 3 days ago', 'HITC - 15 hours ago', 'Seeking Alpha - 3 days ago', 'Washington Times Herald - 2 days ago', 'The Times - 3 days ago', 'Inc.com - Nov 3, 2017', 'Billboard - 1 day ago', 'Dayton Daily News - 3 days ago', 'Vox - 1 day ago', 'Mountain View Voice - Nov 3, 2017', 'GameSpot - 1 day ago', 'Newsweek - Nov 3, 2017', 'Essex Live - 15 hours ago', 'Washington Post - Oct 29, 2017', 'CDA (California Dental Association) - 2 days ago']\n"
     ]
    },
    {
     "data": {
      "text/plain": [
       "50"
      ]
     },
     "execution_count": 99,
     "metadata": {},
     "output_type": "execute_result"
    }
   ],
   "source": [
    "source_time_text  = []\n",
    "\n",
    "def textify():\n",
    "    \n",
    "    for d in source_time:\n",
    "        source_time_text.append(d.find('span').text)\n",
    "        \n",
    "    return print(source_time_text)\n",
    "\n",
    "textify()\n",
    "len(source_time_text)"
   ]
  },
  {
   "cell_type": "code",
   "execution_count": 100,
   "metadata": {},
   "outputs": [
    {
     "name": "stdout",
     "output_type": "stream",
     "text": [
      "[\"I am not opposed to new therapeutic modalities, but at some point Luck needs something tried and true. You can't let the lost 2017 season trickle into 2018.\", \"If you're looking for a bargain this Christmas there's a shop which has something for all the special people in your life at knockdown prices - Devon and Cornwall\\xa0...\", 'Antarctica is a weird place. Scientists have long studied the behavior of its massive ice sheets and the land underneath them in the hopes of understanding the\\xa0...', 'Houston capped off both another year in a millennium noted for teams ending championship droughts and a baseball season that had, thankfully, something for\\xa0...', 'With Lewis Hamilton having already secured the F1 Drivers World Championship, all the drivers can now throw caution to the wind for the final two races in\\xa0...', 'We have entered the 11th month of the year already; 2017 is going fast, but then every year does. It really seems like the older you get the faster it goes.', 'Kylie Jenner is once again sharing cryptic photos of pink decorations which seem to hint that a gender reveal for her baby is on the way. On Friday, the pregnant\\xa0...', 'Following in the audaciously silly footsteps of “The Book of Mormon” and “Spamalot,” “Something Rotten!” is a Broadway musical that sets out to pinion you with\\xa0...', 'Doing something \"impossible\" — like swimming 100 miles across open ocean or scaling a cliff without ropes — isn\\'t about a lack of fear, they agreed. It\\'s about\\xa0...', \"We've seen something. We've said something. Now what? We knew about Kristallnacht, and we let 6 million Jews perish. We know about the Rohingya.\", 'We usually try every time to eat something weird and exotic one of us has never eaten before. A couple of weeks ago, that was star fruit, because the kids had\\xa0...', \"All hope is not lost though, with Oborne also stating: “But you will get something that I personally love. Sorry but that's all I can say right now.” He went on to\\xa0...\", \"I keep studying Kelly Bishop to see how she's able to pull something like that off, how she can adorably be getting drunk the night before her second wedding\\xa0...\", \"The quote: “If you don't wake up every day with something to prove, you'll never improve.” As the Wildcats prepare for their first game of the season, sophomore\\xa0...\", '“The deal is so bad for rich people, I had to throw in the estate tax just to give them something,” Trump said, per “multiple people in the room who heard the\\xa0...', 'Now, Thirdy has a chance to do something that even Kiefer could not do during his own stellar career with the Blue Eagles – to sweep the elimination round of\\xa0...', \"Daniel is one of the thousands of people who plopped down a deposit for the much-hyped and lately production-troubled Tesla Model 3. Well, it looks like it's\\xa0...\", \"Orion Peter, vocalist in the D.C. metal troupe Ilsa, says he and his bandmates “try to keep it raw.” Okay, but then why does their music sound like it's been\\xa0...\", \"Louie Baratta is shuttering his popular downtown lunch spot Something Italian for two of his busiest months of the year. “There's nothing I can do about it.\", \"It's an elegant solution, but something at the other end of the iPhone X's screen isn't quite as beloved by many users. That's right, we're talking about the “notch.”.\", 'Utah Utes quarterback Tyler Huntley (1), center, and teammates celebrate their 48-17 win over the UCLA Bruins at Rice-Eccles Stadium in Salt Lake City on\\xa0...', \"When something's taken away from you like that… emotions are so raw at that time. The gravity of it, it's kind of really settling in. “The big thing for me was just the\\xa0...\", \"Run for Something's victories included Danica Roem in Virginia, who became the first openly transgender state legislator and defeated the man who authored\\xa0...\", \"It's taken an eternity, but the econocrats have finally twigged that the big problem with the nation's education and training system isn't its high-cost to budgets, but\\xa0...\", \"In this handout photo provided by the Israel Government Press Office (GPO), Israel's Prime Minister Benjamin Netanyahu meets with Jared Kushner on June,\\xa0...\", \"If you're like most people, you've been scouring the web for ideas for the perfect gift. Something that might not be as over-the-top as what's found in the Neiman\\xa0...\", \"Appearing on the inaugural episode of DJ Whoo Kid's new Whoolywood Shuffle podcast, 50 revealed the theme song to his show 50 Central would be releasing\\xa0...\", 'Shepherds lead their sheep through the centre of in Madrid, Spain in defense of ancient grazing, droving and migration rights increasingly threatened by urban\\xa0...', \"Notre Dame's rivals have rotated for years, for decades, for close to the century that “Notre Dame football” has been something about which to get worked up.\", \"Something to spot: 2 jaguar cubs at Houston Zoo make debut ... HOUSTON (AP) - There's something new to spot at the Houston Zoo with the debut of two jaguar\\xa0...\", \"What with how popular the many Overwatch shorts have been, I think it's inevitable that one day soon, we'll see the game's lovable cast on the big screen.\", 'George Harrison headed into the Nineties with incredible momentum. His 1987 LP Cloud Nine turned him into a very unlikely pop star thanks to the hit \"I Got My\\xa0...', 'Someone or something or some combination of people and things is using YouTube to systematically frighten, traumatize, and abuse children, automatically and\\xa0...', \"People Are Boycotting Jim Beam Because Of Something Mila Kunis Said. The brand's spokesperson is causing quite a stir. By Carly Ledbetter\\xa0...\", '“Deep down inside, everybody wants to be a part of something,” Robinson said. “Our kids now are identified with Berkeley football by the way they dress on\\xa0...', \"If the Tigers make it into the final four, something seriously wrong has happened. But it's reassuring to know that LSU proved itself enough against Alabama that\\xa0...\", 'The Croatian was relinquished of his duties at West Ham on Monday of this week, before being replaced in his role by David Moyes the following day - an\\xa0...', 'Something is clearly, obviously missing here. EIA reported an increase in crude storage of 2.237 million bbls, while total liquid stockpile decreased 9.051 million\\xa0...', '“I wanted this to be something the students and the staff could really be proud of,” said Harman who said donations came from several local groups including the\\xa0...', \"Kengo Kuma's remarkable V&A building juts into the silvery Tay as a totem of the self-confidence and regeneration of modern Dundee. Yet the birth of the V&A\\xa0...\", 'Today the iPhone X is finally available to pick up -- if you can pick your way through the lines to get a unit. And that may be tough: Restricted supply because of\\xa0...', 'Zac Brown is beginning a fresh chapter today (Nov. 10) with his new band Sir Rosevelt, releasing the group\\'s new track, \"Something \\'Bout You\" (ELEKTRA),\\xa0...', 'Cincinnati Bengals: How to get Marvin Lewis excited about something in an ... Cincinnati Bengals season, we finally found something Marvin Lewis will get fired\\xa0...', \"Listening to a Taylor Swift album happens on two levels. There's the cursory listen, the one that reveals which songs sound completely different from Swift's past\\xa0...\", 'Isaias Cancino pulls St. Louis style pork spare ribs out of the smoker at QBB as the restaurant prepares for dinner service on October 31, 2017. Photo by\\xa0...', \"The support page on Nintendo's European website hosts PDFs of the manuals for 19 really good Nintendo 64 games. On its own this doesn't seem like a big\\xa0...\", \"If you have been wondering if you'll ever be able to scrub unwanted thoughts from your memory, science says you actually might—if your hippocampus is\\xa0...\", 'iPhone X users are claiming that something a bit odd is happening when they leave the house. Users have reported that the screen on the phone does not work\\xa0...', \"Months earlier, when he was still lucid, Davis told the Kansas facility's doctors that something was terribly wrong with him. “It feels like something is eating my\\xa0...\", 'Indeed, the first and most important rule I tell the office staff is to “Say something if you see something!” As the captain of the anesthesia team, my job is to create\\xa0...']\n"
     ]
    },
    {
     "data": {
      "text/plain": [
       "50"
      ]
     },
     "execution_count": 100,
     "metadata": {},
     "output_type": "execute_result"
    }
   ],
   "source": [
    "print(headlines)\n",
    "len(headlines)\n"
   ]
  },
  {
   "cell_type": "code",
   "execution_count": 101,
   "metadata": {},
   "outputs": [
    {
     "name": "stdout",
     "output_type": "stream",
     "text": [
      "<div class=\"st\">Indeed, the first and most important rule I tell the office staff is to “Say <b>something</b> if you see <b>something</b>!” As the captain of the anesthesia team, my job is to create ...</div>\n"
     ]
    }
   ],
   "source": [
    "print(headline)"
   ]
  },
  {
   "cell_type": "code",
   "execution_count": null,
   "metadata": {
    "collapsed": true
   },
   "outputs": [],
   "source": []
  }
 ],
 "metadata": {
  "kernelspec": {
   "display_name": "Python 3",
   "language": "python",
   "name": "python3"
  },
  "language_info": {
   "codemirror_mode": {
    "name": "ipython",
    "version": 3
   },
   "file_extension": ".py",
   "mimetype": "text/x-python",
   "name": "python",
   "nbconvert_exporter": "python",
   "pygments_lexer": "ipython3",
   "version": "3.6.2"
  }
 },
 "nbformat": 4,
 "nbformat_minor": 2
}
